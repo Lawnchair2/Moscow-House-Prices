{
 "cells": [
  {
   "cell_type": "code",
   "execution_count": 1,
   "metadata": {},
   "outputs": [
    {
     "data": {
      "text/html": [
       "<div>\n",
       "<style scoped>\n",
       "    .dataframe tbody tr th:only-of-type {\n",
       "        vertical-align: middle;\n",
       "    }\n",
       "\n",
       "    .dataframe tbody tr th {\n",
       "        vertical-align: top;\n",
       "    }\n",
       "\n",
       "    .dataframe thead th {\n",
       "        text-align: right;\n",
       "    }\n",
       "</style>\n",
       "<table border=\"1\" class=\"dataframe\">\n",
       "  <thead>\n",
       "    <tr style=\"text-align: right;\">\n",
       "      <th></th>\n",
       "      <th>Home ID</th>\n",
       "      <th>Price</th>\n",
       "      <th>Bed</th>\n",
       "      <th>Bath</th>\n",
       "      <th>SqFt</th>\n",
       "      <th>LotSize</th>\n",
       "      <th>Age</th>\n",
       "      <th>Garage</th>\n",
       "      <th>Detached</th>\n",
       "      <th>ACnum</th>\n",
       "    </tr>\n",
       "  </thead>\n",
       "  <tbody>\n",
       "    <tr>\n",
       "      <th>count</th>\n",
       "      <td>111.000000</td>\n",
       "      <td>111.000000</td>\n",
       "      <td>111.000000</td>\n",
       "      <td>111.000000</td>\n",
       "      <td>111.000000</td>\n",
       "      <td>111.000000</td>\n",
       "      <td>111.000000</td>\n",
       "      <td>111.000000</td>\n",
       "      <td>111.000000</td>\n",
       "      <td>111.000000</td>\n",
       "    </tr>\n",
       "    <tr>\n",
       "      <th>mean</th>\n",
       "      <td>56.000000</td>\n",
       "      <td>330.442793</td>\n",
       "      <td>3.441441</td>\n",
       "      <td>2.292793</td>\n",
       "      <td>20.843063</td>\n",
       "      <td>11.600955</td>\n",
       "      <td>48.945946</td>\n",
       "      <td>1.450450</td>\n",
       "      <td>0.153153</td>\n",
       "      <td>0.504505</td>\n",
       "    </tr>\n",
       "    <tr>\n",
       "      <th>std</th>\n",
       "      <td>32.186954</td>\n",
       "      <td>99.237557</td>\n",
       "      <td>0.997129</td>\n",
       "      <td>0.793349</td>\n",
       "      <td>9.479571</td>\n",
       "      <td>16.854827</td>\n",
       "      <td>36.037566</td>\n",
       "      <td>0.860642</td>\n",
       "      <td>0.361768</td>\n",
       "      <td>0.502247</td>\n",
       "    </tr>\n",
       "    <tr>\n",
       "      <th>min</th>\n",
       "      <td>1.000000</td>\n",
       "      <td>165.000000</td>\n",
       "      <td>2.000000</td>\n",
       "      <td>1.000000</td>\n",
       "      <td>6.980000</td>\n",
       "      <td>1.000000</td>\n",
       "      <td>1.000000</td>\n",
       "      <td>0.000000</td>\n",
       "      <td>0.000000</td>\n",
       "      <td>0.000000</td>\n",
       "    </tr>\n",
       "    <tr>\n",
       "      <th>25%</th>\n",
       "      <td>28.500000</td>\n",
       "      <td>259.500000</td>\n",
       "      <td>3.000000</td>\n",
       "      <td>2.000000</td>\n",
       "      <td>13.530000</td>\n",
       "      <td>6.337500</td>\n",
       "      <td>17.500000</td>\n",
       "      <td>1.000000</td>\n",
       "      <td>0.000000</td>\n",
       "      <td>0.000000</td>\n",
       "    </tr>\n",
       "    <tr>\n",
       "      <th>50%</th>\n",
       "      <td>56.000000</td>\n",
       "      <td>304.500000</td>\n",
       "      <td>3.000000</td>\n",
       "      <td>2.000000</td>\n",
       "      <td>18.640000</td>\n",
       "      <td>8.886000</td>\n",
       "      <td>42.000000</td>\n",
       "      <td>2.000000</td>\n",
       "      <td>0.000000</td>\n",
       "      <td>1.000000</td>\n",
       "    </tr>\n",
       "    <tr>\n",
       "      <th>75%</th>\n",
       "      <td>83.500000</td>\n",
       "      <td>389.500000</td>\n",
       "      <td>4.000000</td>\n",
       "      <td>3.000000</td>\n",
       "      <td>25.970000</td>\n",
       "      <td>10.889500</td>\n",
       "      <td>72.500000</td>\n",
       "      <td>2.000000</td>\n",
       "      <td>0.000000</td>\n",
       "      <td>1.000000</td>\n",
       "    </tr>\n",
       "    <tr>\n",
       "      <th>max</th>\n",
       "      <td>111.000000</td>\n",
       "      <td>745.000000</td>\n",
       "      <td>7.000000</td>\n",
       "      <td>4.000000</td>\n",
       "      <td>54.080000</td>\n",
       "      <td>148.975000</td>\n",
       "      <td>131.000000</td>\n",
       "      <td>3.000000</td>\n",
       "      <td>1.000000</td>\n",
       "      <td>1.000000</td>\n",
       "    </tr>\n",
       "  </tbody>\n",
       "</table>\n",
       "</div>"
      ],
      "text/plain": [
       "          Home ID       Price         Bed        Bath        SqFt     LotSize  \\\n",
       "count  111.000000  111.000000  111.000000  111.000000  111.000000  111.000000   \n",
       "mean    56.000000  330.442793    3.441441    2.292793   20.843063   11.600955   \n",
       "std     32.186954   99.237557    0.997129    0.793349    9.479571   16.854827   \n",
       "min      1.000000  165.000000    2.000000    1.000000    6.980000    1.000000   \n",
       "25%     28.500000  259.500000    3.000000    2.000000   13.530000    6.337500   \n",
       "50%     56.000000  304.500000    3.000000    2.000000   18.640000    8.886000   \n",
       "75%     83.500000  389.500000    4.000000    3.000000   25.970000   10.889500   \n",
       "max    111.000000  745.000000    7.000000    4.000000   54.080000  148.975000   \n",
       "\n",
       "              Age      Garage    Detached       ACnum  \n",
       "count  111.000000  111.000000  111.000000  111.000000  \n",
       "mean    48.945946    1.450450    0.153153    0.504505  \n",
       "std     36.037566    0.860642    0.361768    0.502247  \n",
       "min      1.000000    0.000000    0.000000    0.000000  \n",
       "25%     17.500000    1.000000    0.000000    0.000000  \n",
       "50%     42.000000    2.000000    0.000000    1.000000  \n",
       "75%     72.500000    2.000000    0.000000    1.000000  \n",
       "max    131.000000    3.000000    1.000000    1.000000  "
      ]
     },
     "execution_count": 1,
     "metadata": {},
     "output_type": "execute_result"
    }
   ],
   "source": [
    "import pandas as pd\n",
    "import numpy as np\n",
    "from matplotlib import pyplot as plt\n",
    "import statsmodels.formula.api as smf\n",
    "\n",
    "# import and display summary data\n",
    "model = pd.read_excel(r'C:\\Users\\Jacob\\Downloads\\Moscow House Prices.xlsx')\n",
    "model.head()\n",
    "model.describe()\n",
    "\n",
    "# Price in 1000s, Sq Ft in 100s, Lot Size in 1000s SqFt"
   ]
  },
  {
   "cell_type": "code",
   "execution_count": 2,
   "metadata": {},
   "outputs": [],
   "source": [
    "num1 = model[['Price', 'LotSize']].dropna() #creates new variable w/ Price and SqFt as only columns\n",
    "mod1 = smf.ols(formula='Price ~ LotSize', data=num1) #using var above, create regression model using statsmodels"
   ]
  },
  {
   "cell_type": "code",
   "execution_count": 3,
   "metadata": {},
   "outputs": [],
   "source": [
    "mod1fit = mod1.fit() #fit data to model"
   ]
  },
  {
   "cell_type": "code",
   "execution_count": 4,
   "metadata": {},
   "outputs": [
    {
     "name": "stdout",
     "output_type": "stream",
     "text": [
      "                            OLS Regression Results                            \n",
      "==============================================================================\n",
      "Dep. Variable:                  Price   R-squared:                       0.134\n",
      "Model:                            OLS   Adj. R-squared:                  0.126\n",
      "Method:                 Least Squares   F-statistic:                     16.82\n",
      "Date:                Tue, 20 Apr 2021   Prob (F-statistic):           7.95e-05\n",
      "Time:                        00:56:53   Log-Likelihood:                -659.36\n",
      "No. Observations:                 111   AIC:                             1323.\n",
      "Df Residuals:                     109   BIC:                             1328.\n",
      "Df Model:                           1                                         \n",
      "Covariance Type:            nonrobust                                         \n",
      "==============================================================================\n",
      "                 coef    std err          t      P>|t|      [0.025      0.975]\n",
      "------------------------------------------------------------------------------\n",
      "Intercept    305.4691     10.707     28.529      0.000     284.248     326.691\n",
      "LotSize        2.1527      0.525      4.101      0.000       1.112       3.193\n",
      "==============================================================================\n",
      "Omnibus:                       12.842   Durbin-Watson:                   2.078\n",
      "Prob(Omnibus):                  0.002   Jarque-Bera (JB):               13.794\n",
      "Skew:                           0.843   Prob(JB):                      0.00101\n",
      "Kurtosis:                       3.372   Cond. No.                         24.8\n",
      "==============================================================================\n",
      "\n",
      "Notes:\n",
      "[1] Standard Errors assume that the covariance matrix of the errors is correctly specified.\n"
     ]
    }
   ],
   "source": [
    "print(mod1fit.summary()) #display regression summary"
   ]
  },
  {
   "cell_type": "code",
   "execution_count": 5,
   "metadata": {},
   "outputs": [],
   "source": [
    "# Price = 153 + 8.5(SqFt)\n",
    "from matplotlib import pyplot as plt "
   ]
  },
  {
   "cell_type": "code",
   "execution_count": 6,
   "metadata": {},
   "outputs": [],
   "source": [
    "# Plot code\n",
    "pricepred = mod1fit.predict() #best fit line"
   ]
  },
  {
   "cell_type": "code",
   "execution_count": 7,
   "metadata": {},
   "outputs": [
    {
     "data": {
      "image/png": "[encoded data removed]",
      "text/plain": [
       "<Figure size 648x432 with 1 Axes>"
      ]
     },
     "metadata": {
      "needs_background": "light"
     },
     "output_type": "display_data"
    }
   ],
   "source": [
    "plt.figure(figsize=(9, 6))\n",
    "plt.plot(num1['LotSize'], num1['Price'], 'o') #Scatter\n",
    "plt.xlabel('Lot Size, 1000s Sq Ft')\n",
    "plt.ylabel('Price 1000s')\n",
    "plt.title('Price v Lot Size')\n",
    "\n",
    "plt.show()"
   ]
  },
  {
   "cell_type": "code",
   "execution_count": 8,
   "metadata": {},
   "outputs": [],
   "source": [
    "model = model[model.LotSize < 43.5] #Drop all results with lot size less than 43.5k"
   ]
  },
  {
   "cell_type": "code",
   "execution_count": 9,
   "metadata": {
    "collapsed": true
   },
   "outputs": [
    {
     "data": {
      "text/html": [
       "<div>\n",
       "<style scoped>\n",
       "    .dataframe tbody tr th:only-of-type {\n",
       "        vertical-align: middle;\n",
       "    }\n",
       "\n",
       "    .dataframe tbody tr th {\n",
       "        vertical-align: top;\n",
       "    }\n",
       "\n",
       "    .dataframe thead th {\n",
       "        text-align: right;\n",
       "    }\n",
       "</style>\n",
       "<table border=\"1\" class=\"dataframe\">\n",
       "  <thead>\n",
       "    <tr style=\"text-align: right;\">\n",
       "      <th></th>\n",
       "      <th>Home ID</th>\n",
       "      <th>Price</th>\n",
       "      <th>Bed</th>\n",
       "      <th>Bath</th>\n",
       "      <th>SqFt</th>\n",
       "      <th>LotSize</th>\n",
       "      <th>Age</th>\n",
       "      <th>Garage</th>\n",
       "      <th>Detached</th>\n",
       "      <th>ACnum</th>\n",
       "    </tr>\n",
       "  </thead>\n",
       "  <tbody>\n",
       "    <tr>\n",
       "      <th>count</th>\n",
       "      <td>107.000000</td>\n",
       "      <td>107.000000</td>\n",
       "      <td>107.000000</td>\n",
       "      <td>107.000000</td>\n",
       "      <td>107.000000</td>\n",
       "      <td>107.000000</td>\n",
       "      <td>107.000000</td>\n",
       "      <td>107.000000</td>\n",
       "      <td>107.000000</td>\n",
       "      <td>107.000000</td>\n",
       "    </tr>\n",
       "    <tr>\n",
       "      <th>mean</th>\n",
       "      <td>56.906542</td>\n",
       "      <td>322.935981</td>\n",
       "      <td>3.411215</td>\n",
       "      <td>2.247664</td>\n",
       "      <td>20.303364</td>\n",
       "      <td>8.728963</td>\n",
       "      <td>49.803738</td>\n",
       "      <td>1.420561</td>\n",
       "      <td>0.149533</td>\n",
       "      <td>0.504673</td>\n",
       "    </tr>\n",
       "    <tr>\n",
       "      <th>std</th>\n",
       "      <td>32.153386</td>\n",
       "      <td>89.706315</td>\n",
       "      <td>0.951199</td>\n",
       "      <td>0.769016</td>\n",
       "      <td>9.179535</td>\n",
       "      <td>3.341580</td>\n",
       "      <td>36.384073</td>\n",
       "      <td>0.858227</td>\n",
       "      <td>0.358291</td>\n",
       "      <td>0.502331</td>\n",
       "    </tr>\n",
       "    <tr>\n",
       "      <th>min</th>\n",
       "      <td>2.000000</td>\n",
       "      <td>165.000000</td>\n",
       "      <td>2.000000</td>\n",
       "      <td>1.000000</td>\n",
       "      <td>6.980000</td>\n",
       "      <td>1.000000</td>\n",
       "      <td>1.000000</td>\n",
       "      <td>0.000000</td>\n",
       "      <td>0.000000</td>\n",
       "      <td>0.000000</td>\n",
       "    </tr>\n",
       "    <tr>\n",
       "      <th>25%</th>\n",
       "      <td>29.500000</td>\n",
       "      <td>258.500000</td>\n",
       "      <td>3.000000</td>\n",
       "      <td>2.000000</td>\n",
       "      <td>13.100000</td>\n",
       "      <td>6.229000</td>\n",
       "      <td>17.500000</td>\n",
       "      <td>1.000000</td>\n",
       "      <td>0.000000</td>\n",
       "      <td>0.000000</td>\n",
       "    </tr>\n",
       "    <tr>\n",
       "      <th>50%</th>\n",
       "      <td>57.000000</td>\n",
       "      <td>299.000000</td>\n",
       "      <td>3.000000</td>\n",
       "      <td>2.000000</td>\n",
       "      <td>18.400000</td>\n",
       "      <td>8.712000</td>\n",
       "      <td>42.000000</td>\n",
       "      <td>2.000000</td>\n",
       "      <td>0.000000</td>\n",
       "      <td>1.000000</td>\n",
       "    </tr>\n",
       "    <tr>\n",
       "      <th>75%</th>\n",
       "      <td>84.500000</td>\n",
       "      <td>384.000000</td>\n",
       "      <td>4.000000</td>\n",
       "      <td>3.000000</td>\n",
       "      <td>25.030000</td>\n",
       "      <td>10.345000</td>\n",
       "      <td>73.500000</td>\n",
       "      <td>2.000000</td>\n",
       "      <td>0.000000</td>\n",
       "      <td>1.000000</td>\n",
       "    </tr>\n",
       "    <tr>\n",
       "      <th>max</th>\n",
       "      <td>111.000000</td>\n",
       "      <td>589.000000</td>\n",
       "      <td>6.000000</td>\n",
       "      <td>4.000000</td>\n",
       "      <td>54.080000</td>\n",
       "      <td>18.730000</td>\n",
       "      <td>131.000000</td>\n",
       "      <td>3.000000</td>\n",
       "      <td>1.000000</td>\n",
       "      <td>1.000000</td>\n",
       "    </tr>\n",
       "  </tbody>\n",
       "</table>\n",
       "</div>"
      ],
      "text/plain": [
       "          Home ID       Price         Bed        Bath        SqFt     LotSize  \\\n",
       "count  107.000000  107.000000  107.000000  107.000000  107.000000  107.000000   \n",
       "mean    56.906542  322.935981    3.411215    2.247664   20.303364    8.728963   \n",
       "std     32.153386   89.706315    0.951199    0.769016    9.179535    3.341580   \n",
       "min      2.000000  165.000000    2.000000    1.000000    6.980000    1.000000   \n",
       "25%     29.500000  258.500000    3.000000    2.000000   13.100000    6.229000   \n",
       "50%     57.000000  299.000000    3.000000    2.000000   18.400000    8.712000   \n",
       "75%     84.500000  384.000000    4.000000    3.000000   25.030000   10.345000   \n",
       "max    111.000000  589.000000    6.000000    4.000000   54.080000   18.730000   \n",
       "\n",
       "              Age      Garage    Detached       ACnum  \n",
       "count  107.000000  107.000000  107.000000  107.000000  \n",
       "mean    49.803738    1.420561    0.149533    0.504673  \n",
       "std     36.384073    0.858227    0.358291    0.502331  \n",
       "min      1.000000    0.000000    0.000000    0.000000  \n",
       "25%     17.500000    1.000000    0.000000    0.000000  \n",
       "50%     42.000000    2.000000    0.000000    1.000000  \n",
       "75%     73.500000    2.000000    0.000000    1.000000  \n",
       "max    131.000000    3.000000    1.000000    1.000000  "
      ]
     },
     "execution_count": 9,
     "metadata": {},
     "output_type": "execute_result"
    }
   ],
   "source": [
    "model.describe() #Double check it worked"
   ]
  },
  {
   "cell_type": "code",
   "execution_count": 10,
   "metadata": {},
   "outputs": [
    {
     "name": "stdout",
     "output_type": "stream",
     "text": [
      "                            OLS Regression Results                            \n",
      "==============================================================================\n",
      "Dep. Variable:                  Price   R-squared:                       0.125\n",
      "Model:                            OLS   Adj. R-squared:                  0.117\n",
      "Method:                 Least Squares   F-statistic:                     14.98\n",
      "Date:                Tue, 20 Apr 2021   Prob (F-statistic):           0.000189\n",
      "Time:                        00:56:54   Log-Likelihood:                -625.32\n",
      "No. Observations:                 107   AIC:                             1255.\n",
      "Df Residuals:                     105   BIC:                             1260.\n",
      "Df Model:                           1                                         \n",
      "Covariance Type:            nonrobust                                         \n",
      "==============================================================================\n",
      "                 coef    std err          t      P>|t|      [0.025      0.975]\n",
      "------------------------------------------------------------------------------\n",
      "Intercept    240.1305     22.894     10.489      0.000     194.737     285.524\n",
      "LotSize        9.4863      2.451      3.871      0.000       4.627      14.346\n",
      "==============================================================================\n",
      "Omnibus:                        9.682   Durbin-Watson:                   1.916\n",
      "Prob(Omnibus):                  0.008   Jarque-Bera (JB):               10.440\n",
      "Skew:                           0.764   Prob(JB):                      0.00541\n",
      "Kurtosis:                       2.934   Cond. No.                         26.5\n",
      "==============================================================================\n",
      "\n",
      "Notes:\n",
      "[1] Standard Errors assume that the covariance matrix of the errors is correctly specified.\n"
     ]
    }
   ],
   "source": [
    "#rerunning regression\n",
    "Num1 = model[['Price', 'LotSize']].dropna() #now have num1 (orig) and Num1 (<43.5)\n",
    "Mod1 = smf.ols(formula='Price ~ LotSize', data=Num1) #looks same, but updated data\n",
    "Mod1fit = Mod1.fit() #fit to model\n",
    "print(Mod1fit.summary()) #print regression summary"
   ]
  },
  {
   "cell_type": "code",
   "execution_count": 11,
   "metadata": {},
   "outputs": [
    {
     "data": {
      "image/png": "[encoded data removed]",
      "text/plain": [
       "<Figure size 648x432 with 1 Axes>"
      ]
     },
     "metadata": {
      "needs_background": "light"
     },
     "output_type": "display_data"
    }
   ],
   "source": [
    "# Price = 7.86(SqFt) + 163.3\n",
    "Pricepred = Mod1fit.predict()\n",
    "plt.figure(figsize=(9, 6))\n",
    "plt.plot(Num1['LotSize'], Num1['Price'], 'o') #Scatter\n",
    "plt.plot(Num1['LotSize'], Pricepred, 'r') #Prediction Line graph, layered over first\n",
    "plt.xlabel('Lot Size 1000s Sq Ft')\n",
    "plt.ylabel('Price 1000s')\n",
    "plt.title('Price v LotSize w/ dropped results')\n",
    "\n",
    "plt.show()"
   ]
  },
  {
   "cell_type": "code",
   "execution_count": 12,
   "metadata": {},
   "outputs": [],
   "source": [
    "num2 = model[['Price', 'Bed', 'Bath', 'SqFt']] #select data for number 2"
   ]
  },
  {
   "cell_type": "code",
   "execution_count": 13,
   "metadata": {},
   "outputs": [],
   "source": [
    "mod2 = smf.ols(formula='Price ~ Bed + Bath + SqFt', data=num2)"
   ]
  },
  {
   "cell_type": "code",
   "execution_count": 14,
   "metadata": {},
   "outputs": [],
   "source": [
    "mod2 = mod2.fit() #fit to model"
   ]
  },
  {
   "cell_type": "code",
   "execution_count": 15,
   "metadata": {},
   "outputs": [
    {
     "name": "stdout",
     "output_type": "stream",
     "text": [
      "                            OLS Regression Results                            \n",
      "==============================================================================\n",
      "Dep. Variable:                  Price   R-squared:                       0.718\n",
      "Model:                            OLS   Adj. R-squared:                  0.710\n",
      "Method:                 Least Squares   F-statistic:                     87.53\n",
      "Date:                Tue, 20 Apr 2021   Prob (F-statistic):           3.23e-28\n",
      "Time:                        00:56:54   Log-Likelihood:                -564.68\n",
      "No. Observations:                 107   AIC:                             1137.\n",
      "Df Residuals:                     103   BIC:                             1148.\n",
      "Df Model:                           3                                         \n",
      "Covariance Type:            nonrobust                                         \n",
      "==============================================================================\n",
      "                 coef    std err          t      P>|t|      [0.025      0.975]\n",
      "------------------------------------------------------------------------------\n",
      "Intercept    122.7708     19.110      6.424      0.000      84.870     160.672\n",
      "Bed           -2.8278      6.509     -0.434      0.665     -15.736      10.080\n",
      "Bath          43.2582      8.494      5.093      0.000      26.413      60.103\n",
      "SqFt           5.5450      0.807      6.875      0.000       3.945       7.145\n",
      "==============================================================================\n",
      "Omnibus:                       12.721   Durbin-Watson:                   2.234\n",
      "Prob(Omnibus):                  0.002   Jarque-Bera (JB):               23.722\n",
      "Skew:                           0.451   Prob(JB):                     7.06e-06\n",
      "Kurtosis:                       5.123   Cond. No.                         96.6\n",
      "==============================================================================\n",
      "\n",
      "Notes:\n",
      "[1] Standard Errors assume that the covariance matrix of the errors is correctly specified.\n"
     ]
    }
   ],
   "source": [
    "print(mod2.summary())"
   ]
  },
  {
   "cell_type": "code",
   "execution_count": 16,
   "metadata": {},
   "outputs": [],
   "source": [
    "# Price = 122.77 + -2(Bed) + 43(Bath) + 5.5(SqFt)\n",
    "num3 = model[['Price', 'Bath', 'SqFt', 'Age']]"
   ]
  },
  {
   "cell_type": "code",
   "execution_count": 17,
   "metadata": {},
   "outputs": [],
   "source": [
    "mod3 = smf.ols(formula='Price ~ Bath + SqFt + Age', data=num3)"
   ]
  },
  {
   "cell_type": "code",
   "execution_count": 18,
   "metadata": {},
   "outputs": [],
   "source": [
    "mod3 = mod3.fit()"
   ]
  },
  {
   "cell_type": "code",
   "execution_count": 19,
   "metadata": {
    "scrolled": false
   },
   "outputs": [
    {
     "name": "stdout",
     "output_type": "stream",
     "text": [
      "                            OLS Regression Results                            \n",
      "==============================================================================\n",
      "Dep. Variable:                  Price   R-squared:                       0.747\n",
      "Model:                            OLS   Adj. R-squared:                  0.740\n",
      "Method:                 Least Squares   F-statistic:                     101.5\n",
      "Date:                Tue, 20 Apr 2021   Prob (F-statistic):           1.23e-30\n",
      "Time:                        00:56:54   Log-Likelihood:                -558.88\n",
      "No. Observations:                 107   AIC:                             1126.\n",
      "Df Residuals:                     103   BIC:                             1136.\n",
      "Df Model:                           3                                         \n",
      "Covariance Type:            nonrobust                                         \n",
      "==============================================================================\n",
      "                 coef    std err          t      P>|t|      [0.025      0.975]\n",
      "------------------------------------------------------------------------------\n",
      "Intercept    170.1945     20.537      8.287      0.000     129.464     210.925\n",
      "Bath          22.3723      9.953      2.248      0.027       2.633      42.111\n",
      "SqFt           6.3450      0.726      8.736      0.000       4.905       7.785\n",
      "Age           -0.5295      0.153     -3.466      0.001      -0.832      -0.227\n",
      "==============================================================================\n",
      "Omnibus:                       13.465   Durbin-Watson:                   2.181\n",
      "Prob(Omnibus):                  0.001   Jarque-Bera (JB):               26.226\n",
      "Skew:                           0.466   Prob(JB):                     2.02e-06\n",
      "Kurtosis:                       5.239   Cond. No.                         318.\n",
      "==============================================================================\n",
      "\n",
      "Notes:\n",
      "[1] Standard Errors assume that the covariance matrix of the errors is correctly specified.\n"
     ]
    }
   ],
   "source": [
    "print(mod3.summary())"
   ]
  },
  {
   "cell_type": "code",
   "execution_count": 20,
   "metadata": {},
   "outputs": [],
   "source": [
    "num3sq = num3.copy() #copying original data to not mess it up"
   ]
  },
  {
   "cell_type": "code",
   "execution_count": 21,
   "metadata": {},
   "outputs": [],
   "source": [
    "num3sq['Age2'] = num3sq['Age']**2 #Adding \"Age2\" by squaring \"Age\""
   ]
  },
  {
   "cell_type": "code",
   "execution_count": 22,
   "metadata": {},
   "outputs": [],
   "source": [
    "mod3sq = smf.ols(formula='Price ~ Bath + SqFt + Age + Age2', data=num3sq) #Quadratic analysis w/Age2\n",
    "mod3sq = mod3sq.fit()"
   ]
  },
  {
   "cell_type": "code",
   "execution_count": 23,
   "metadata": {},
   "outputs": [
    {
     "data": {
      "text/html": [
       "<table class=\"simpletable\">\n",
       "<caption>OLS Regression Results</caption>\n",
       "<tr>\n",
       "  <th>Dep. Variable:</th>          <td>Price</td>      <th>  R-squared:         </th> <td>   0.758</td>\n",
       "</tr>\n",
       "<tr>\n",
       "  <th>Model:</th>                   <td>OLS</td>       <th>  Adj. R-squared:    </th> <td>   0.749</td>\n",
       "</tr>\n",
       "<tr>\n",
       "  <th>Method:</th>             <td>Least Squares</td>  <th>  F-statistic:       </th> <td>   80.09</td>\n",
       "</tr>\n",
       "<tr>\n",
       "  <th>Date:</th>             <td>Tue, 20 Apr 2021</td> <th>  Prob (F-statistic):</th> <td>1.34e-30</td>\n",
       "</tr>\n",
       "<tr>\n",
       "  <th>Time:</th>                 <td>00:56:54</td>     <th>  Log-Likelihood:    </th> <td> -556.44</td>\n",
       "</tr>\n",
       "<tr>\n",
       "  <th>No. Observations:</th>      <td>   107</td>      <th>  AIC:               </th> <td>   1123.</td>\n",
       "</tr>\n",
       "<tr>\n",
       "  <th>Df Residuals:</th>          <td>   102</td>      <th>  BIC:               </th> <td>   1136.</td>\n",
       "</tr>\n",
       "<tr>\n",
       "  <th>Df Model:</th>              <td>     4</td>      <th>                     </th>     <td> </td>   \n",
       "</tr>\n",
       "<tr>\n",
       "  <th>Covariance Type:</th>      <td>nonrobust</td>    <th>                     </th>     <td> </td>   \n",
       "</tr>\n",
       "</table>\n",
       "<table class=\"simpletable\">\n",
       "<tr>\n",
       "      <td></td>         <th>coef</th>     <th>std err</th>      <th>t</th>      <th>P>|t|</th>  <th>[0.025</th>    <th>0.975]</th>  \n",
       "</tr>\n",
       "<tr>\n",
       "  <th>Intercept</th> <td>  186.2653</td> <td>   21.476</td> <td>    8.673</td> <td> 0.000</td> <td>  143.669</td> <td>  228.862</td>\n",
       "</tr>\n",
       "<tr>\n",
       "  <th>Bath</th>      <td>   22.3238</td> <td>    9.776</td> <td>    2.284</td> <td> 0.024</td> <td>    2.933</td> <td>   41.714</td>\n",
       "</tr>\n",
       "<tr>\n",
       "  <th>SqFt</th>      <td>    6.3609</td> <td>    0.713</td> <td>    8.916</td> <td> 0.000</td> <td>    4.946</td> <td>    7.776</td>\n",
       "</tr>\n",
       "<tr>\n",
       "  <th>Age</th>       <td>   -1.4374</td> <td>    0.442</td> <td>   -3.249</td> <td> 0.002</td> <td>   -2.315</td> <td>   -0.560</td>\n",
       "</tr>\n",
       "<tr>\n",
       "  <th>Age2</th>      <td>    0.0076</td> <td>    0.003</td> <td>    2.181</td> <td> 0.031</td> <td>    0.001</td> <td>    0.015</td>\n",
       "</tr>\n",
       "</table>\n",
       "<table class=\"simpletable\">\n",
       "<tr>\n",
       "  <th>Omnibus:</th>       <td>12.329</td> <th>  Durbin-Watson:     </th> <td>   2.258</td>\n",
       "</tr>\n",
       "<tr>\n",
       "  <th>Prob(Omnibus):</th> <td> 0.002</td> <th>  Jarque-Bera (JB):  </th> <td>  29.702</td>\n",
       "</tr>\n",
       "<tr>\n",
       "  <th>Skew:</th>          <td> 0.297</td> <th>  Prob(JB):          </th> <td>3.55e-07</td>\n",
       "</tr>\n",
       "<tr>\n",
       "  <th>Kurtosis:</th>      <td> 5.512</td> <th>  Cond. No.          </th> <td>3.07e+04</td>\n",
       "</tr>\n",
       "</table><br/><br/>Notes:<br/>[1] Standard Errors assume that the covariance matrix of the errors is correctly specified.<br/>[2] The condition number is large, 3.07e+04. This might indicate that there are<br/>strong multicollinearity or other numerical problems."
      ],
      "text/plain": [
       "<class 'statsmodels.iolib.summary.Summary'>\n",
       "\"\"\"\n",
       "                            OLS Regression Results                            \n",
       "==============================================================================\n",
       "Dep. Variable:                  Price   R-squared:                       0.758\n",
       "Model:                            OLS   Adj. R-squared:                  0.749\n",
       "Method:                 Least Squares   F-statistic:                     80.09\n",
       "Date:                Tue, 20 Apr 2021   Prob (F-statistic):           1.34e-30\n",
       "Time:                        00:56:54   Log-Likelihood:                -556.44\n",
       "No. Observations:                 107   AIC:                             1123.\n",
       "Df Residuals:                     102   BIC:                             1136.\n",
       "Df Model:                           4                                         \n",
       "Covariance Type:            nonrobust                                         \n",
       "==============================================================================\n",
       "                 coef    std err          t      P>|t|      [0.025      0.975]\n",
       "------------------------------------------------------------------------------\n",
       "Intercept    186.2653     21.476      8.673      0.000     143.669     228.862\n",
       "Bath          22.3238      9.776      2.284      0.024       2.933      41.714\n",
       "SqFt           6.3609      0.713      8.916      0.000       4.946       7.776\n",
       "Age           -1.4374      0.442     -3.249      0.002      -2.315      -0.560\n",
       "Age2           0.0076      0.003      2.181      0.031       0.001       0.015\n",
       "==============================================================================\n",
       "Omnibus:                       12.329   Durbin-Watson:                   2.258\n",
       "Prob(Omnibus):                  0.002   Jarque-Bera (JB):               29.702\n",
       "Skew:                           0.297   Prob(JB):                     3.55e-07\n",
       "Kurtosis:                       5.512   Cond. No.                     3.07e+04\n",
       "==============================================================================\n",
       "\n",
       "Notes:\n",
       "[1] Standard Errors assume that the covariance matrix of the errors is correctly specified.\n",
       "[2] The condition number is large, 3.07e+04. This might indicate that there are\n",
       "strong multicollinearity or other numerical problems.\n",
       "\"\"\""
      ]
     },
     "execution_count": 23,
     "metadata": {},
     "output_type": "execute_result"
    }
   ],
   "source": [
    "mod3sq.summary() #Print Regress summary"
   ]
  },
  {
   "cell_type": "code",
   "execution_count": 24,
   "metadata": {},
   "outputs": [],
   "source": [
    "from sklearn.linear_model import LinearRegression"
   ]
  },
  {
   "cell_type": "code",
   "execution_count": 25,
   "metadata": {},
   "outputs": [],
   "source": [
    "predictors = ['Bath', 'SqFt', 'Age', 'Age2']\n",
    "x = num3sq[predictors]\n",
    "y = num3sq['Price']\n",
    "\n",
    "lm = LinearRegression()\n",
    "mod3lm = lm.fit(x, y)"
   ]
  },
  {
   "cell_type": "code",
   "execution_count": 26,
   "metadata": {},
   "outputs": [
    {
     "name": "stdout",
     "output_type": "stream",
     "text": [
      "alpha = 186.26526495703456\n",
      "betas = [ 2.23237825e+01  6.36086332e+00 -1.43744171e+00  7.63149288e-03]\n"
     ]
    }
   ],
   "source": [
    "print(f'alpha = {mod3lm.intercept_}')\n",
    "print(f'betas = {mod3lm.coef_}')"
   ]
  },
  {
   "cell_type": "code",
   "execution_count": 27,
   "metadata": {},
   "outputs": [],
   "source": [
    "agearray = np.array(range(1, 122))"
   ]
  },
  {
   "cell_type": "code",
   "execution_count": 28,
   "metadata": {},
   "outputs": [],
   "source": [
    "agearray2 = np.square(agearray)"
   ]
  },
  {
   "cell_type": "code",
   "execution_count": 29,
   "metadata": {},
   "outputs": [],
   "source": [
    "sqft3 = np.full((121,), 20)\n",
    "bath3 = np.full((121,), 2)"
   ]
  },
  {
   "cell_type": "code",
   "execution_count": 30,
   "metadata": {},
   "outputs": [
    {
     "name": "stdout",
     "output_type": "stream",
     "text": [
      "     Bath  SqFt  Age   Age2\n",
      "0       2    20    1      1\n",
      "1       2    20    2      4\n",
      "2       2    20    3      9\n",
      "3       2    20    4     16\n",
      "4       2    20    5     25\n",
      "..    ...   ...  ...    ...\n",
      "116     2    20  117  13689\n",
      "117     2    20  118  13924\n",
      "118     2    20  119  14161\n",
      "119     2    20  120  14400\n",
      "120     2    20  121  14641\n",
      "\n",
      "[121 rows x 4 columns]\n"
     ]
    }
   ],
   "source": [
    "newx = {'Bath' : bath3, \n",
    "        'SqFt' : sqft3, \n",
    "         'Age' : agearray, \n",
    "         'Age2' : agearray2}\n",
    "df3 = pd.DataFrame(newx, columns=['Bath', 'SqFt', 'Age', 'Age2'])\n",
    "print(df3)"
   ]
  },
  {
   "cell_type": "code",
   "execution_count": 31,
   "metadata": {},
   "outputs": [],
   "source": [
    "Age2Pred = mod3lm.predict(df3)"
   ]
  },
  {
   "cell_type": "code",
   "execution_count": 32,
   "metadata": {},
   "outputs": [
    {
     "data": {
      "image/png": "[encoded data removed]",
      "text/plain": [
       "<Figure size 648x432 with 1 Axes>"
      ]
     },
     "metadata": {
      "needs_background": "light"
     },
     "output_type": "display_data"
    }
   ],
   "source": [
    "plt.figure(figsize=(9,6))\n",
    "plt.plot(df3['Age'], Age2Pred, 'r')\n",
    "plt.xlabel('Age')\n",
    "plt.ylabel('Price in 1000s')\n",
    "plt.title('Age effect on price')\n",
    "\n",
    "plt.show()"
   ]
  },
  {
   "cell_type": "code",
   "execution_count": 33,
   "metadata": {},
   "outputs": [],
   "source": [
    "num4 = model[['Price', 'Bath', 'SqFt', 'ACnum']].dropna()"
   ]
  },
  {
   "cell_type": "code",
   "execution_count": 34,
   "metadata": {},
   "outputs": [],
   "source": [
    "mod4 = smf.ols(formula = 'Price ~ Bath + SqFt + ACnum', data=num4)"
   ]
  },
  {
   "cell_type": "code",
   "execution_count": 35,
   "metadata": {},
   "outputs": [],
   "source": [
    "mod4 = mod4.fit()"
   ]
  },
  {
   "cell_type": "code",
   "execution_count": 36,
   "metadata": {},
   "outputs": [
    {
     "name": "stdout",
     "output_type": "stream",
     "text": [
      "                            OLS Regression Results                            \n",
      "==============================================================================\n",
      "Dep. Variable:                  Price   R-squared:                       0.733\n",
      "Model:                            OLS   Adj. R-squared:                  0.725\n",
      "Method:                 Least Squares   F-statistic:                     94.32\n",
      "Date:                Tue, 20 Apr 2021   Prob (F-statistic):           1.99e-29\n",
      "Time:                        00:56:56   Log-Likelihood:                -561.78\n",
      "No. Observations:                 107   AIC:                             1132.\n",
      "Df Residuals:                     103   BIC:                             1142.\n",
      "Df Model:                           3                                         \n",
      "Covariance Type:            nonrobust                                         \n",
      "==============================================================================\n",
      "                 coef    std err          t      P>|t|      [0.025      0.975]\n",
      "------------------------------------------------------------------------------\n",
      "Intercept    117.0952     14.150      8.275      0.000      89.033     145.158\n",
      "Bath          35.9621      8.699      4.134      0.000      18.710      53.214\n",
      "SqFt           5.5664      0.693      8.029      0.000       4.192       6.941\n",
      "ACnum         23.7632      9.746      2.438      0.016       4.435      43.092\n",
      "==============================================================================\n",
      "Omnibus:                        8.587   Durbin-Watson:                   2.252\n",
      "Prob(Omnibus):                  0.014   Jarque-Bera (JB):               13.950\n",
      "Skew:                           0.297   Prob(JB):                     0.000935\n",
      "Kurtosis:                       4.666   Cond. No.                         75.4\n",
      "==============================================================================\n",
      "\n",
      "Notes:\n",
      "[1] Standard Errors assume that the covariance matrix of the errors is correctly specified.\n"
     ]
    }
   ],
   "source": [
    "print(mod4.summary())"
   ]
  },
  {
   "cell_type": "code",
   "execution_count": 37,
   "metadata": {},
   "outputs": [],
   "source": [
    "num4pt2 = model[['Price', 'Bath', 'SqFt', 'ACnum', 'Age']].dropna()"
   ]
  },
  {
   "cell_type": "code",
   "execution_count": 38,
   "metadata": {},
   "outputs": [],
   "source": [
    "mod4pt2 = smf.ols(formula = 'Price ~ Bath + SqFt + ACnum + Age', data=num4pt2)"
   ]
  },
  {
   "cell_type": "code",
   "execution_count": 39,
   "metadata": {},
   "outputs": [],
   "source": [
    "mod4pt2 = mod4pt2.fit()"
   ]
  },
  {
   "cell_type": "code",
   "execution_count": 40,
   "metadata": {},
   "outputs": [
    {
     "data": {
      "text/html": [
       "<table class=\"simpletable\">\n",
       "<caption>OLS Regression Results</caption>\n",
       "<tr>\n",
       "  <th>Dep. Variable:</th>          <td>Price</td>      <th>  R-squared:         </th> <td>   0.750</td>\n",
       "</tr>\n",
       "<tr>\n",
       "  <th>Model:</th>                   <td>OLS</td>       <th>  Adj. R-squared:    </th> <td>   0.740</td>\n",
       "</tr>\n",
       "<tr>\n",
       "  <th>Method:</th>             <td>Least Squares</td>  <th>  F-statistic:       </th> <td>   76.52</td>\n",
       "</tr>\n",
       "<tr>\n",
       "  <th>Date:</th>             <td>Tue, 20 Apr 2021</td> <th>  Prob (F-statistic):</th> <td>7.65e-30</td>\n",
       "</tr>\n",
       "<tr>\n",
       "  <th>Time:</th>                 <td>00:56:56</td>     <th>  Log-Likelihood:    </th> <td> -558.28</td>\n",
       "</tr>\n",
       "<tr>\n",
       "  <th>No. Observations:</th>      <td>   107</td>      <th>  AIC:               </th> <td>   1127.</td>\n",
       "</tr>\n",
       "<tr>\n",
       "  <th>Df Residuals:</th>          <td>   102</td>      <th>  BIC:               </th> <td>   1140.</td>\n",
       "</tr>\n",
       "<tr>\n",
       "  <th>Df Model:</th>              <td>     4</td>      <th>                     </th>     <td> </td>   \n",
       "</tr>\n",
       "<tr>\n",
       "  <th>Covariance Type:</th>      <td>nonrobust</td>    <th>                     </th>     <td> </td>   \n",
       "</tr>\n",
       "</table>\n",
       "<table class=\"simpletable\">\n",
       "<tr>\n",
       "      <td></td>         <th>coef</th>     <th>std err</th>      <th>t</th>      <th>P>|t|</th>  <th>[0.025</th>    <th>0.975]</th>  \n",
       "</tr>\n",
       "<tr>\n",
       "  <th>Intercept</th> <td>  161.9184</td> <td>   21.919</td> <td>    7.387</td> <td> 0.000</td> <td>  118.442</td> <td>  205.395</td>\n",
       "</tr>\n",
       "<tr>\n",
       "  <th>Bath</th>      <td>   22.2206</td> <td>    9.946</td> <td>    2.234</td> <td> 0.028</td> <td>    2.492</td> <td>   41.949</td>\n",
       "</tr>\n",
       "<tr>\n",
       "  <th>SqFt</th>      <td>    6.2865</td> <td>    0.728</td> <td>    8.638</td> <td> 0.000</td> <td>    4.843</td> <td>    7.730</td>\n",
       "</tr>\n",
       "<tr>\n",
       "  <th>ACnum</th>     <td>   11.3754</td> <td>   10.586</td> <td>    1.075</td> <td> 0.285</td> <td>   -9.622</td> <td>   32.373</td>\n",
       "</tr>\n",
       "<tr>\n",
       "  <th>Age</th>       <td>   -0.4479</td> <td>    0.170</td> <td>   -2.627</td> <td> 0.010</td> <td>   -0.786</td> <td>   -0.110</td>\n",
       "</tr>\n",
       "</table>\n",
       "<table class=\"simpletable\">\n",
       "<tr>\n",
       "  <th>Omnibus:</th>       <td>10.594</td> <th>  Durbin-Watson:     </th> <td>   2.212</td>\n",
       "</tr>\n",
       "<tr>\n",
       "  <th>Prob(Omnibus):</th> <td> 0.005</td> <th>  Jarque-Bera (JB):  </th> <td>  18.262</td>\n",
       "</tr>\n",
       "<tr>\n",
       "  <th>Skew:</th>          <td> 0.382</td> <th>  Prob(JB):          </th> <td>0.000108</td>\n",
       "</tr>\n",
       "<tr>\n",
       "  <th>Kurtosis:</th>      <td> 4.874</td> <th>  Cond. No.          </th> <td>    338.</td>\n",
       "</tr>\n",
       "</table><br/><br/>Notes:<br/>[1] Standard Errors assume that the covariance matrix of the errors is correctly specified."
      ],
      "text/plain": [
       "<class 'statsmodels.iolib.summary.Summary'>\n",
       "\"\"\"\n",
       "                            OLS Regression Results                            \n",
       "==============================================================================\n",
       "Dep. Variable:                  Price   R-squared:                       0.750\n",
       "Model:                            OLS   Adj. R-squared:                  0.740\n",
       "Method:                 Least Squares   F-statistic:                     76.52\n",
       "Date:                Tue, 20 Apr 2021   Prob (F-statistic):           7.65e-30\n",
       "Time:                        00:56:56   Log-Likelihood:                -558.28\n",
       "No. Observations:                 107   AIC:                             1127.\n",
       "Df Residuals:                     102   BIC:                             1140.\n",
       "Df Model:                           4                                         \n",
       "Covariance Type:            nonrobust                                         \n",
       "==============================================================================\n",
       "                 coef    std err          t      P>|t|      [0.025      0.975]\n",
       "------------------------------------------------------------------------------\n",
       "Intercept    161.9184     21.919      7.387      0.000     118.442     205.395\n",
       "Bath          22.2206      9.946      2.234      0.028       2.492      41.949\n",
       "SqFt           6.2865      0.728      8.638      0.000       4.843       7.730\n",
       "ACnum         11.3754     10.586      1.075      0.285      -9.622      32.373\n",
       "Age           -0.4479      0.170     -2.627      0.010      -0.786      -0.110\n",
       "==============================================================================\n",
       "Omnibus:                       10.594   Durbin-Watson:                   2.212\n",
       "Prob(Omnibus):                  0.005   Jarque-Bera (JB):               18.262\n",
       "Skew:                           0.382   Prob(JB):                     0.000108\n",
       "Kurtosis:                       4.874   Cond. No.                         338.\n",
       "==============================================================================\n",
       "\n",
       "Notes:\n",
       "[1] Standard Errors assume that the covariance matrix of the errors is correctly specified.\n",
       "\"\"\""
      ]
     },
     "execution_count": 40,
     "metadata": {},
     "output_type": "execute_result"
    }
   ],
   "source": [
    "mod4pt2.summary()"
   ]
  },
  {
   "cell_type": "code",
   "execution_count": 41,
   "metadata": {},
   "outputs": [],
   "source": [
    "from numpy import log"
   ]
  },
  {
   "cell_type": "code",
   "execution_count": 42,
   "metadata": {},
   "outputs": [],
   "source": [
    "num4ln = num4pt2"
   ]
  },
  {
   "cell_type": "code",
   "execution_count": 43,
   "metadata": {},
   "outputs": [],
   "source": [
    "num4ln['Price'] = np.log(num4ln['Price'])"
   ]
  },
  {
   "cell_type": "code",
   "execution_count": 44,
   "metadata": {},
   "outputs": [],
   "source": [
    "mod4ln = smf.ols(formula='Price ~ Bath + SqFt + ACnum + Age', data=num4ln)\n",
    "mod4ln = mod4ln.fit()"
   ]
  },
  {
   "cell_type": "code",
   "execution_count": 45,
   "metadata": {},
   "outputs": [
    {
     "data": {
      "text/html": [
       "<table class=\"simpletable\">\n",
       "<caption>OLS Regression Results</caption>\n",
       "<tr>\n",
       "  <th>Dep. Variable:</th>          <td>Price</td>      <th>  R-squared:         </th> <td>   0.731</td>\n",
       "</tr>\n",
       "<tr>\n",
       "  <th>Model:</th>                   <td>OLS</td>       <th>  Adj. R-squared:    </th> <td>   0.721</td>\n",
       "</tr>\n",
       "<tr>\n",
       "  <th>Method:</th>             <td>Least Squares</td>  <th>  F-statistic:       </th> <td>   69.38</td>\n",
       "</tr>\n",
       "<tr>\n",
       "  <th>Date:</th>             <td>Tue, 20 Apr 2021</td> <th>  Prob (F-statistic):</th> <td>3.03e-28</td>\n",
       "</tr>\n",
       "<tr>\n",
       "  <th>Time:</th>                 <td>00:56:56</td>     <th>  Log-Likelihood:    </th> <td>  59.225</td>\n",
       "</tr>\n",
       "<tr>\n",
       "  <th>No. Observations:</th>      <td>   107</td>      <th>  AIC:               </th> <td>  -108.5</td>\n",
       "</tr>\n",
       "<tr>\n",
       "  <th>Df Residuals:</th>          <td>   102</td>      <th>  BIC:               </th> <td>  -95.09</td>\n",
       "</tr>\n",
       "<tr>\n",
       "  <th>Df Model:</th>              <td>     4</td>      <th>                     </th>     <td> </td>   \n",
       "</tr>\n",
       "<tr>\n",
       "  <th>Covariance Type:</th>      <td>nonrobust</td>    <th>                     </th>     <td> </td>   \n",
       "</tr>\n",
       "</table>\n",
       "<table class=\"simpletable\">\n",
       "<tr>\n",
       "      <td></td>         <th>coef</th>     <th>std err</th>      <th>t</th>      <th>P>|t|</th>  <th>[0.025</th>    <th>0.975]</th>  \n",
       "</tr>\n",
       "<tr>\n",
       "  <th>Intercept</th> <td>    5.2461</td> <td>    0.068</td> <td>   76.796</td> <td> 0.000</td> <td>    5.111</td> <td>    5.382</td>\n",
       "</tr>\n",
       "<tr>\n",
       "  <th>Bath</th>      <td>    0.0872</td> <td>    0.031</td> <td>    2.814</td> <td> 0.006</td> <td>    0.026</td> <td>    0.149</td>\n",
       "</tr>\n",
       "<tr>\n",
       "  <th>SqFt</th>      <td>    0.0168</td> <td>    0.002</td> <td>    7.386</td> <td> 0.000</td> <td>    0.012</td> <td>    0.021</td>\n",
       "</tr>\n",
       "<tr>\n",
       "  <th>ACnum</th>     <td>    0.0453</td> <td>    0.033</td> <td>    1.374</td> <td> 0.172</td> <td>   -0.020</td> <td>    0.111</td>\n",
       "</tr>\n",
       "<tr>\n",
       "  <th>Age</th>       <td>   -0.0013</td> <td>    0.001</td> <td>   -2.426</td> <td> 0.017</td> <td>   -0.002</td> <td>   -0.000</td>\n",
       "</tr>\n",
       "</table>\n",
       "<table class=\"simpletable\">\n",
       "<tr>\n",
       "  <th>Omnibus:</th>       <td> 6.775</td> <th>  Durbin-Watson:     </th> <td>   2.230</td>\n",
       "</tr>\n",
       "<tr>\n",
       "  <th>Prob(Omnibus):</th> <td> 0.034</td> <th>  Jarque-Bera (JB):  </th> <td>  11.671</td>\n",
       "</tr>\n",
       "<tr>\n",
       "  <th>Skew:</th>          <td>-0.091</td> <th>  Prob(JB):          </th> <td> 0.00292</td>\n",
       "</tr>\n",
       "<tr>\n",
       "  <th>Kurtosis:</th>      <td> 4.608</td> <th>  Cond. No.          </th> <td>    338.</td>\n",
       "</tr>\n",
       "</table><br/><br/>Notes:<br/>[1] Standard Errors assume that the covariance matrix of the errors is correctly specified."
      ],
      "text/plain": [
       "<class 'statsmodels.iolib.summary.Summary'>\n",
       "\"\"\"\n",
       "                            OLS Regression Results                            \n",
       "==============================================================================\n",
       "Dep. Variable:                  Price   R-squared:                       0.731\n",
       "Model:                            OLS   Adj. R-squared:                  0.721\n",
       "Method:                 Least Squares   F-statistic:                     69.38\n",
       "Date:                Tue, 20 Apr 2021   Prob (F-statistic):           3.03e-28\n",
       "Time:                        00:56:56   Log-Likelihood:                 59.225\n",
       "No. Observations:                 107   AIC:                            -108.5\n",
       "Df Residuals:                     102   BIC:                            -95.09\n",
       "Df Model:                           4                                         \n",
       "Covariance Type:            nonrobust                                         \n",
       "==============================================================================\n",
       "                 coef    std err          t      P>|t|      [0.025      0.975]\n",
       "------------------------------------------------------------------------------\n",
       "Intercept      5.2461      0.068     76.796      0.000       5.111       5.382\n",
       "Bath           0.0872      0.031      2.814      0.006       0.026       0.149\n",
       "SqFt           0.0168      0.002      7.386      0.000       0.012       0.021\n",
       "ACnum          0.0453      0.033      1.374      0.172      -0.020       0.111\n",
       "Age           -0.0013      0.001     -2.426      0.017      -0.002      -0.000\n",
       "==============================================================================\n",
       "Omnibus:                        6.775   Durbin-Watson:                   2.230\n",
       "Prob(Omnibus):                  0.034   Jarque-Bera (JB):               11.671\n",
       "Skew:                          -0.091   Prob(JB):                      0.00292\n",
       "Kurtosis:                       4.608   Cond. No.                         338.\n",
       "==============================================================================\n",
       "\n",
       "Notes:\n",
       "[1] Standard Errors assume that the covariance matrix of the errors is correctly specified.\n",
       "\"\"\""
      ]
     },
     "execution_count": 45,
     "metadata": {},
     "output_type": "execute_result"
    }
   ],
   "source": [
    "mod4ln.summary()"
   ]
  },
  {
   "cell_type": "code",
   "execution_count": 46,
   "metadata": {},
   "outputs": [
    {
     "data": {
      "text/html": [
       "<div>\n",
       "<style scoped>\n",
       "    .dataframe tbody tr th:only-of-type {\n",
       "        vertical-align: middle;\n",
       "    }\n",
       "\n",
       "    .dataframe tbody tr th {\n",
       "        vertical-align: top;\n",
       "    }\n",
       "\n",
       "    .dataframe thead th {\n",
       "        text-align: right;\n",
       "    }\n",
       "</style>\n",
       "<table border=\"1\" class=\"dataframe\">\n",
       "  <thead>\n",
       "    <tr style=\"text-align: right;\">\n",
       "      <th></th>\n",
       "      <th>Home ID</th>\n",
       "      <th>Price</th>\n",
       "      <th>Bed</th>\n",
       "      <th>Bath</th>\n",
       "      <th>SqFt</th>\n",
       "      <th>LotSize</th>\n",
       "      <th>Age</th>\n",
       "      <th>Garage</th>\n",
       "      <th>Detached</th>\n",
       "      <th>ACnum</th>\n",
       "    </tr>\n",
       "  </thead>\n",
       "  <tbody>\n",
       "    <tr>\n",
       "      <th>count</th>\n",
       "      <td>107.000000</td>\n",
       "      <td>107.000000</td>\n",
       "      <td>107.000000</td>\n",
       "      <td>107.000000</td>\n",
       "      <td>107.000000</td>\n",
       "      <td>107.000000</td>\n",
       "      <td>107.000000</td>\n",
       "      <td>107.000000</td>\n",
       "      <td>107.000000</td>\n",
       "      <td>107.000000</td>\n",
       "    </tr>\n",
       "    <tr>\n",
       "      <th>mean</th>\n",
       "      <td>56.906542</td>\n",
       "      <td>322.935981</td>\n",
       "      <td>3.411215</td>\n",
       "      <td>2.247664</td>\n",
       "      <td>20.303364</td>\n",
       "      <td>8.728963</td>\n",
       "      <td>49.803738</td>\n",
       "      <td>1.420561</td>\n",
       "      <td>0.149533</td>\n",
       "      <td>0.504673</td>\n",
       "    </tr>\n",
       "    <tr>\n",
       "      <th>std</th>\n",
       "      <td>32.153386</td>\n",
       "      <td>89.706315</td>\n",
       "      <td>0.951199</td>\n",
       "      <td>0.769016</td>\n",
       "      <td>9.179535</td>\n",
       "      <td>3.341580</td>\n",
       "      <td>36.384073</td>\n",
       "      <td>0.858227</td>\n",
       "      <td>0.358291</td>\n",
       "      <td>0.502331</td>\n",
       "    </tr>\n",
       "    <tr>\n",
       "      <th>min</th>\n",
       "      <td>2.000000</td>\n",
       "      <td>165.000000</td>\n",
       "      <td>2.000000</td>\n",
       "      <td>1.000000</td>\n",
       "      <td>6.980000</td>\n",
       "      <td>1.000000</td>\n",
       "      <td>1.000000</td>\n",
       "      <td>0.000000</td>\n",
       "      <td>0.000000</td>\n",
       "      <td>0.000000</td>\n",
       "    </tr>\n",
       "    <tr>\n",
       "      <th>25%</th>\n",
       "      <td>29.500000</td>\n",
       "      <td>258.500000</td>\n",
       "      <td>3.000000</td>\n",
       "      <td>2.000000</td>\n",
       "      <td>13.100000</td>\n",
       "      <td>6.229000</td>\n",
       "      <td>17.500000</td>\n",
       "      <td>1.000000</td>\n",
       "      <td>0.000000</td>\n",
       "      <td>0.000000</td>\n",
       "    </tr>\n",
       "    <tr>\n",
       "      <th>50%</th>\n",
       "      <td>57.000000</td>\n",
       "      <td>299.000000</td>\n",
       "      <td>3.000000</td>\n",
       "      <td>2.000000</td>\n",
       "      <td>18.400000</td>\n",
       "      <td>8.712000</td>\n",
       "      <td>42.000000</td>\n",
       "      <td>2.000000</td>\n",
       "      <td>0.000000</td>\n",
       "      <td>1.000000</td>\n",
       "    </tr>\n",
       "    <tr>\n",
       "      <th>75%</th>\n",
       "      <td>84.500000</td>\n",
       "      <td>384.000000</td>\n",
       "      <td>4.000000</td>\n",
       "      <td>3.000000</td>\n",
       "      <td>25.030000</td>\n",
       "      <td>10.345000</td>\n",
       "      <td>73.500000</td>\n",
       "      <td>2.000000</td>\n",
       "      <td>0.000000</td>\n",
       "      <td>1.000000</td>\n",
       "    </tr>\n",
       "    <tr>\n",
       "      <th>max</th>\n",
       "      <td>111.000000</td>\n",
       "      <td>589.000000</td>\n",
       "      <td>6.000000</td>\n",
       "      <td>4.000000</td>\n",
       "      <td>54.080000</td>\n",
       "      <td>18.730000</td>\n",
       "      <td>131.000000</td>\n",
       "      <td>3.000000</td>\n",
       "      <td>1.000000</td>\n",
       "      <td>1.000000</td>\n",
       "    </tr>\n",
       "  </tbody>\n",
       "</table>\n",
       "</div>"
      ],
      "text/plain": [
       "          Home ID       Price         Bed        Bath        SqFt     LotSize  \\\n",
       "count  107.000000  107.000000  107.000000  107.000000  107.000000  107.000000   \n",
       "mean    56.906542  322.935981    3.411215    2.247664   20.303364    8.728963   \n",
       "std     32.153386   89.706315    0.951199    0.769016    9.179535    3.341580   \n",
       "min      2.000000  165.000000    2.000000    1.000000    6.980000    1.000000   \n",
       "25%     29.500000  258.500000    3.000000    2.000000   13.100000    6.229000   \n",
       "50%     57.000000  299.000000    3.000000    2.000000   18.400000    8.712000   \n",
       "75%     84.500000  384.000000    4.000000    3.000000   25.030000   10.345000   \n",
       "max    111.000000  589.000000    6.000000    4.000000   54.080000   18.730000   \n",
       "\n",
       "              Age      Garage    Detached       ACnum  \n",
       "count  107.000000  107.000000  107.000000  107.000000  \n",
       "mean    49.803738    1.420561    0.149533    0.504673  \n",
       "std     36.384073    0.858227    0.358291    0.502331  \n",
       "min      1.000000    0.000000    0.000000    0.000000  \n",
       "25%     17.500000    1.000000    0.000000    0.000000  \n",
       "50%     42.000000    2.000000    0.000000    1.000000  \n",
       "75%     73.500000    2.000000    0.000000    1.000000  \n",
       "max    131.000000    3.000000    1.000000    1.000000  "
      ]
     },
     "execution_count": 46,
     "metadata": {},
     "output_type": "execute_result"
    }
   ],
   "source": [
    "wildcard = model[['Bath', 'Bed', 'SqFt']].dropna()\n",
    "model.describe()"
   ]
  },
  {
   "cell_type": "code",
   "execution_count": 47,
   "metadata": {},
   "outputs": [
    {
     "data": {
      "text/html": [
       "<table class=\"simpletable\">\n",
       "<caption>OLS Regression Results</caption>\n",
       "<tr>\n",
       "  <th>Dep. Variable:</th>          <td>SqFt</td>       <th>  R-squared:         </th> <td>   0.598</td>\n",
       "</tr>\n",
       "<tr>\n",
       "  <th>Model:</th>                   <td>OLS</td>       <th>  Adj. R-squared:    </th> <td>   0.591</td>\n",
       "</tr>\n",
       "<tr>\n",
       "  <th>Method:</th>             <td>Least Squares</td>  <th>  F-statistic:       </th> <td>   77.49</td>\n",
       "</tr>\n",
       "<tr>\n",
       "  <th>Date:</th>             <td>Tue, 20 Apr 2021</td> <th>  Prob (F-statistic):</th> <td>2.49e-21</td>\n",
       "</tr>\n",
       "<tr>\n",
       "  <th>Time:</th>                 <td>00:56:56</td>     <th>  Log-Likelihood:    </th> <td> -339.73</td>\n",
       "</tr>\n",
       "<tr>\n",
       "  <th>No. Observations:</th>      <td>   107</td>      <th>  AIC:               </th> <td>   685.5</td>\n",
       "</tr>\n",
       "<tr>\n",
       "  <th>Df Residuals:</th>          <td>   104</td>      <th>  BIC:               </th> <td>   693.5</td>\n",
       "</tr>\n",
       "<tr>\n",
       "  <th>Df Model:</th>              <td>     2</td>      <th>                     </th>     <td> </td>   \n",
       "</tr>\n",
       "<tr>\n",
       "  <th>Covariance Type:</th>      <td>nonrobust</td>    <th>                     </th>     <td> </td>   \n",
       "</tr>\n",
       "</table>\n",
       "<table class=\"simpletable\">\n",
       "<tr>\n",
       "      <td></td>         <th>coef</th>     <th>std err</th>      <th>t</th>      <th>P>|t|</th>  <th>[0.025</th>    <th>0.975]</th>  \n",
       "</tr>\n",
       "<tr>\n",
       "  <th>Intercept</th> <td>   -6.0303</td> <td>    2.247</td> <td>   -2.684</td> <td> 0.008</td> <td>  -10.486</td> <td>   -1.575</td>\n",
       "</tr>\n",
       "<tr>\n",
       "  <th>Bed</th>       <td>    3.8684</td> <td>    0.694</td> <td>    5.570</td> <td> 0.000</td> <td>    2.491</td> <td>    5.245</td>\n",
       "</tr>\n",
       "<tr>\n",
       "  <th>Bath</th>      <td>    5.8451</td> <td>    0.859</td> <td>    6.805</td> <td> 0.000</td> <td>    4.142</td> <td>    7.548</td>\n",
       "</tr>\n",
       "</table>\n",
       "<table class=\"simpletable\">\n",
       "<tr>\n",
       "  <th>Omnibus:</th>       <td>27.142</td> <th>  Durbin-Watson:     </th> <td>   2.110</td>\n",
       "</tr>\n",
       "<tr>\n",
       "  <th>Prob(Omnibus):</th> <td> 0.000</td> <th>  Jarque-Bera (JB):  </th> <td>  40.160</td>\n",
       "</tr>\n",
       "<tr>\n",
       "  <th>Skew:</th>          <td> 1.201</td> <th>  Prob(JB):          </th> <td>1.90e-09</td>\n",
       "</tr>\n",
       "<tr>\n",
       "  <th>Kurtosis:</th>      <td> 4.799</td> <th>  Cond. No.          </th> <td>    17.6</td>\n",
       "</tr>\n",
       "</table><br/><br/>Notes:<br/>[1] Standard Errors assume that the covariance matrix of the errors is correctly specified."
      ],
      "text/plain": [
       "<class 'statsmodels.iolib.summary.Summary'>\n",
       "\"\"\"\n",
       "                            OLS Regression Results                            \n",
       "==============================================================================\n",
       "Dep. Variable:                   SqFt   R-squared:                       0.598\n",
       "Model:                            OLS   Adj. R-squared:                  0.591\n",
       "Method:                 Least Squares   F-statistic:                     77.49\n",
       "Date:                Tue, 20 Apr 2021   Prob (F-statistic):           2.49e-21\n",
       "Time:                        00:56:56   Log-Likelihood:                -339.73\n",
       "No. Observations:                 107   AIC:                             685.5\n",
       "Df Residuals:                     104   BIC:                             693.5\n",
       "Df Model:                           2                                         \n",
       "Covariance Type:            nonrobust                                         \n",
       "==============================================================================\n",
       "                 coef    std err          t      P>|t|      [0.025      0.975]\n",
       "------------------------------------------------------------------------------\n",
       "Intercept     -6.0303      2.247     -2.684      0.008     -10.486      -1.575\n",
       "Bed            3.8684      0.694      5.570      0.000       2.491       5.245\n",
       "Bath           5.8451      0.859      6.805      0.000       4.142       7.548\n",
       "==============================================================================\n",
       "Omnibus:                       27.142   Durbin-Watson:                   2.110\n",
       "Prob(Omnibus):                  0.000   Jarque-Bera (JB):               40.160\n",
       "Skew:                           1.201   Prob(JB):                     1.90e-09\n",
       "Kurtosis:                       4.799   Cond. No.                         17.6\n",
       "==============================================================================\n",
       "\n",
       "Notes:\n",
       "[1] Standard Errors assume that the covariance matrix of the errors is correctly specified.\n",
       "\"\"\""
      ]
     },
     "execution_count": 47,
     "metadata": {},
     "output_type": "execute_result"
    }
   ],
   "source": [
    "wildcardreg = smf.ols(formula = 'SqFt ~ Bed + Bath', data=wildcard)\n",
    "wildcardreg = wildcardreg.fit()\n",
    "wildcardreg.summary()"
   ]
  },
  {
   "cell_type": "code",
   "execution_count": 48,
   "metadata": {},
   "outputs": [
    {
     "data": {
      "text/html": [
       "<table class=\"simpletable\">\n",
       "<caption>OLS Regression Results</caption>\n",
       "<tr>\n",
       "  <th>Dep. Variable:</th>          <td>ACnum</td>      <th>  R-squared:         </th> <td>   0.291</td>\n",
       "</tr>\n",
       "<tr>\n",
       "  <th>Model:</th>                   <td>OLS</td>       <th>  Adj. R-squared:    </th> <td>   0.284</td>\n",
       "</tr>\n",
       "<tr>\n",
       "  <th>Method:</th>             <td>Least Squares</td>  <th>  F-statistic:       </th> <td>   43.13</td>\n",
       "</tr>\n",
       "<tr>\n",
       "  <th>Date:</th>             <td>Tue, 20 Apr 2021</td> <th>  Prob (F-statistic):</th> <td>2.01e-09</td>\n",
       "</tr>\n",
       "<tr>\n",
       "  <th>Time:</th>                 <td>00:56:56</td>     <th>  Log-Likelihood:    </th> <td> -59.243</td>\n",
       "</tr>\n",
       "<tr>\n",
       "  <th>No. Observations:</th>      <td>   107</td>      <th>  AIC:               </th> <td>   122.5</td>\n",
       "</tr>\n",
       "<tr>\n",
       "  <th>Df Residuals:</th>          <td>   105</td>      <th>  BIC:               </th> <td>   127.8</td>\n",
       "</tr>\n",
       "<tr>\n",
       "  <th>Df Model:</th>              <td>     1</td>      <th>                     </th>     <td> </td>   \n",
       "</tr>\n",
       "<tr>\n",
       "  <th>Covariance Type:</th>      <td>nonrobust</td>    <th>                     </th>     <td> </td>   \n",
       "</tr>\n",
       "</table>\n",
       "<table class=\"simpletable\">\n",
       "<tr>\n",
       "      <td></td>         <th>coef</th>     <th>std err</th>      <th>t</th>      <th>P>|t|</th>  <th>[0.025</th>    <th>0.975]</th>  \n",
       "</tr>\n",
       "<tr>\n",
       "  <th>Intercept</th> <td>    0.8757</td> <td>    0.070</td> <td>   12.537</td> <td> 0.000</td> <td>    0.737</td> <td>    1.014</td>\n",
       "</tr>\n",
       "<tr>\n",
       "  <th>Age</th>       <td>   -0.0074</td> <td>    0.001</td> <td>   -6.568</td> <td> 0.000</td> <td>   -0.010</td> <td>   -0.005</td>\n",
       "</tr>\n",
       "</table>\n",
       "<table class=\"simpletable\">\n",
       "<tr>\n",
       "  <th>Omnibus:</th>       <td> 6.375</td> <th>  Durbin-Watson:     </th> <td>   1.995</td>\n",
       "</tr>\n",
       "<tr>\n",
       "  <th>Prob(Omnibus):</th> <td> 0.041</td> <th>  Jarque-Bera (JB):  </th> <td>   3.238</td>\n",
       "</tr>\n",
       "<tr>\n",
       "  <th>Skew:</th>          <td>-0.173</td> <th>  Prob(JB):          </th> <td>   0.198</td>\n",
       "</tr>\n",
       "<tr>\n",
       "  <th>Kurtosis:</th>      <td> 2.221</td> <th>  Cond. No.          </th> <td>    105.</td>\n",
       "</tr>\n",
       "</table><br/><br/>Notes:<br/>[1] Standard Errors assume that the covariance matrix of the errors is correctly specified."
      ],
      "text/plain": [
       "<class 'statsmodels.iolib.summary.Summary'>\n",
       "\"\"\"\n",
       "                            OLS Regression Results                            \n",
       "==============================================================================\n",
       "Dep. Variable:                  ACnum   R-squared:                       0.291\n",
       "Model:                            OLS   Adj. R-squared:                  0.284\n",
       "Method:                 Least Squares   F-statistic:                     43.13\n",
       "Date:                Tue, 20 Apr 2021   Prob (F-statistic):           2.01e-09\n",
       "Time:                        00:56:56   Log-Likelihood:                -59.243\n",
       "No. Observations:                 107   AIC:                             122.5\n",
       "Df Residuals:                     105   BIC:                             127.8\n",
       "Df Model:                           1                                         \n",
       "Covariance Type:            nonrobust                                         \n",
       "==============================================================================\n",
       "                 coef    std err          t      P>|t|      [0.025      0.975]\n",
       "------------------------------------------------------------------------------\n",
       "Intercept      0.8757      0.070     12.537      0.000       0.737       1.014\n",
       "Age           -0.0074      0.001     -6.568      0.000      -0.010      -0.005\n",
       "==============================================================================\n",
       "Omnibus:                        6.375   Durbin-Watson:                   1.995\n",
       "Prob(Omnibus):                  0.041   Jarque-Bera (JB):                3.238\n",
       "Skew:                          -0.173   Prob(JB):                        0.198\n",
       "Kurtosis:                       2.221   Cond. No.                         105.\n",
       "==============================================================================\n",
       "\n",
       "Notes:\n",
       "[1] Standard Errors assume that the covariance matrix of the errors is correctly specified.\n",
       "\"\"\""
      ]
     },
     "execution_count": 48,
     "metadata": {},
     "output_type": "execute_result"
    }
   ],
   "source": [
    "num8 = model[['ACnum', 'Age']]\n",
    "mod8f = smf.ols(formula = 'ACnum ~ Age', data=num8)\n",
    "mod8 = mod8f.fit()\n",
    "mod8.summary()"
   ]
  },
  {
   "cell_type": "code",
   "execution_count": null,
   "metadata": {},
   "outputs": [],
   "source": []
  }
 ],
 "metadata": {
  "kernelspec": {
   "display_name": "Python 3",
   "language": "python",
   "name": "python3"
  },
  "language_info": {
   "codemirror_mode": {
    "name": "ipython",
    "version": 3
   },
   "file_extension": ".py",
   "mimetype": "text/x-python",
   "name": "python",
   "nbconvert_exporter": "python",
   "pygments_lexer": "ipython3",
   "version": "3.8.5"
  }
 },
 "nbformat": 4,
 "nbformat_minor": 4
}
